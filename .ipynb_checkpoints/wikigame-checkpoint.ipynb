{
 "cells": [
  {
   "cell_type": "code",
   "execution_count": 1,
   "id": "cfc306a9-44e2-42b2-b280-cb67130e5826",
   "metadata": {
    "execution": {
     "iopub.execute_input": "2024-01-23T11:41:09.052858Z",
     "iopub.status.busy": "2024-01-23T11:41:09.051990Z",
     "iopub.status.idle": "2024-01-23T11:41:09.147040Z",
     "shell.execute_reply": "2024-01-23T11:41:09.146723Z",
     "shell.execute_reply.started": "2024-01-23T11:41:09.052822Z"
    }
   },
   "outputs": [],
   "source": [
    "from urllib.request import urlopen\n",
    "import requests\n",
    "from bs4 import BeautifulSoup\n",
    "import re\n",
    "import time"
   ]
  },
  {
   "cell_type": "code",
   "execution_count": 2,
   "id": "66c9dcd5-fa03-4149-ab7c-91f799861538",
   "metadata": {
    "execution": {
     "iopub.execute_input": "2024-01-23T11:41:17.915421Z",
     "iopub.status.busy": "2024-01-23T11:41:17.913364Z",
     "iopub.status.idle": "2024-01-23T11:41:17.934462Z",
     "shell.execute_reply": "2024-01-23T11:41:17.933573Z",
     "shell.execute_reply.started": "2024-01-23T11:41:17.915365Z"
    }
   },
   "outputs": [],
   "source": [
    "class WikiGame:\n",
    "    def __init__(self, spread_constant=10):\n",
    "        self.visited_topics = []\n",
    "        self.path = []\n",
    "        # Determines how many links it grabs from each wikipedia page\n",
    "        self.spread_constant = spread_constant\n",
    "    \n",
    "    def start_game(self):\n",
    "        # Asks user for start and end links\n",
    "        start_link = input(\"What is the start link?:\")\n",
    "        self.start_topic = re.findall(\"\\/wiki\\/([^#]*)\", start_link)[0]\n",
    "        goal_link = input(\"What is the goal link?:\")\n",
    "        self.goal_topic = re.findall(\"\\/wiki\\/([^#]*)\", goal_link)[0]\n",
    "        \n",
    "        print(\"Search Started\")\n",
    "        start_time = time.time()\n",
    "        # Begins Breadth First Search\n",
    "        discovered_path = self.bfs_search()\n",
    "        \n",
    "        print(\"\\nPath Found:\")\n",
    "        for topic in discovered_path:\n",
    "            print(topic)\n",
    "        print(f\"\\nTime taken: {time.time()-start_time:.2f} seconds\")\n",
    "    \n",
    "    def bfs_search(self):\n",
    "        # Begins queue\n",
    "        queue = [(-1, self.start_topic)]\n",
    "        \n",
    "        while queue:\n",
    "            # Takes first topic in queue\n",
    "            parent_index, parent_topic = queue.pop(0)\n",
    "            \n",
    "            if parent_topic not in self.visited_topics:\n",
    "#---------------------------------------------------------------------------------------------------------------\n",
    "                # Add parent_topic to the list of visited topics\n",
    "                # Hint: self.visited_topics.append()\n",
    "                \n",
    "#---------------------------------------------------------------------------------------------------------------\n",
    "                self.path.append(parent_index)\n",
    "                \n",
    "                # Gets topics from the Wikpedia page\n",
    "                soup = self.make_soup(parent_topic)\n",
    "                topics_found = self.find_new_topics(soup)\n",
    "                \n",
    "                print(f\"{parent_index} From {self.visited_topics[parent_index]}, searching through: {parent_topic}\")\n",
    "                \n",
    "                for topic in topics_found[:self.spread_constant]:\n",
    "#---------------------------------------------------------------------------------------------------------------\n",
    "                    # Append the a tuple (index to parent topic, topic) to the queue\n",
    "                    # Hint: queue.append(( , ))\n",
    "                    # Hint: index to parent topic is len(self.visited_topics)-1\n",
    "                    # Hint: Make sure you are appending a tuple ( , )\n",
    "                    \n",
    "#---------------------------------------------------------------------------------------------------------------\n",
    "                    if topic == self.goal_topic:\n",
    "                        # Rebuilds path back to origin topic\n",
    "                        traversed_topics = [topic, parent_topic]\n",
    "                        while parent_index >= 0:\n",
    "                            traversed_topics.append(self.visited_topics[parent_index])\n",
    "                            parent_index = self.path[parent_index]\n",
    "                        return traversed_topics[::-1]\n",
    "                \n",
    "    # Creates BeautifulSoup object from wikipedia link\n",
    "    def make_soup(self, wiki_topic):\n",
    "        html = urlopen(f\"https://en.wikipedia.org/wiki/{wiki_topic}\")\n",
    "        soup = BeautifulSoup(html, \"html.parser\")\n",
    "        return soup\n",
    "\n",
    "    # Finds topics within Wikipedia page\n",
    "    def find_new_topics(self, soup):\n",
    "        topics = []\n",
    "        for link in soup.select('p a[href]'):\n",
    "            href = link['href']\n",
    "            if href.startswith('/wiki/'):\n",
    "                topics.append(href[6:])\n",
    "        return topics"
   ]
  },
  {
   "cell_type": "code",
   "execution_count": null,
   "id": "bf12ecf2-9bc8-4b2f-8acd-6fbac4018ffa",
   "metadata": {},
   "outputs": [],
   "source": [
    "game = WikiGame()\n",
    "game.start_game()"
   ]
  }
 ],
 "metadata": {
  "kernelspec": {
   "display_name": "Python 3 (ipykernel)",
   "language": "python",
   "name": "python3"
  },
  "language_info": {
   "codemirror_mode": {
    "name": "ipython",
    "version": 3
   },
   "file_extension": ".py",
   "mimetype": "text/x-python",
   "name": "python",
   "nbconvert_exporter": "python",
   "pygments_lexer": "ipython3",
   "version": "3.9.15"
  }
 },
 "nbformat": 4,
 "nbformat_minor": 5
}
